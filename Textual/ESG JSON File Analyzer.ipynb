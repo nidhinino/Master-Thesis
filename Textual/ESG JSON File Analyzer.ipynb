{
 "cells": [
  {
   "cell_type": "code",
   "execution_count": 2,
   "id": "0ccf9435-a5e5-458a-a00c-f027eeb580b7",
   "metadata": {},
   "outputs": [
    {
     "name": "stdout",
     "output_type": "stream",
     "text": [
      "Results written to esg_counts.csv\n"
     ]
    }
   ],
   "source": [
    "import json\n",
    "import os\n",
    "import csv\n",
    "\n",
    "def count_esg_entries(json_data):\n",
    "    \"\"\"Count entries in each ESG category from JSON data\"\"\"\n",
    "    return {\n",
    "        'Social': len(json_data.get('Social', [])),\n",
    "        'Environmental': len(json_data.get('Environmental', [])),\n",
    "        'Governance': len(json_data.get('Governance', []))\n",
    "    }\n",
    "\n",
    "def analyze_json_files():\n",
    "    # Folders to analyze\n",
    "    folders = ['pypdf2', 'pdfplumber', 'textract']\n",
    "    \n",
    "    # List to store results\n",
    "    results = []\n",
    "    \n",
    "    # Process each folder\n",
    "    for folder in folders:\n",
    "        if not os.path.exists(folder):\n",
    "            print(f\"Warning: Folder {folder} not found\")\n",
    "            continue\n",
    "            \n",
    "        # Process each JSON file in the folder\n",
    "        for filename in os.listdir(folder):\n",
    "            if filename.endswith('.json'):\n",
    "                filepath = os.path.join(folder, filename)\n",
    "                try:\n",
    "                    with open(filepath, 'r', encoding='utf-8') as f:\n",
    "                        json_data = json.load(f)\n",
    "                        counts = count_esg_entries(json_data)\n",
    "                        \n",
    "                        # Add result with folder and filename information\n",
    "                        results.append({\n",
    "                            'Folder': folder,\n",
    "                            'Filename': filename,\n",
    "                            'Social_Count': counts['Social'],\n",
    "                            'Environmental_Count': counts['Environmental'],\n",
    "                            'Governance_Count': counts['Governance']\n",
    "                        })\n",
    "                except Exception as e:\n",
    "                    print(f\"Error processing {filepath}: {str(e)}\")\n",
    "    \n",
    "    # Write results to CSV\n",
    "    if results:\n",
    "        csv_filename = 'esg_counts.csv'\n",
    "        fieldnames = ['Folder', 'Filename', 'Social_Count', 'Environmental_Count', 'Governance_Count']\n",
    "        \n",
    "        with open(csv_filename, 'w', newline='', encoding='utf-8') as csvfile:\n",
    "            writer = csv.DictWriter(csvfile, fieldnames=fieldnames)\n",
    "            writer.writeheader()\n",
    "            writer.writerows(results)\n",
    "        \n",
    "        print(f\"Results written to {csv_filename}\")\n",
    "    else:\n",
    "        print(\"No results found to write to CSV\")\n",
    "\n",
    "if __name__ == \"__main__\":\n",
    "    analyze_json_files()"
   ]
  },
  {
   "cell_type": "code",
   "execution_count": null,
   "id": "4bcd4154-2d01-45d8-8248-1912f93522e4",
   "metadata": {},
   "outputs": [],
   "source": []
  }
 ],
 "metadata": {
  "kernelspec": {
   "display_name": "Python 3 (ipykernel)",
   "language": "python",
   "name": "python3"
  },
  "language_info": {
   "codemirror_mode": {
    "name": "ipython",
    "version": 3
   },
   "file_extension": ".py",
   "mimetype": "text/x-python",
   "name": "python",
   "nbconvert_exporter": "python",
   "pygments_lexer": "ipython3",
   "version": "3.12.3"
  }
 },
 "nbformat": 4,
 "nbformat_minor": 5
}
