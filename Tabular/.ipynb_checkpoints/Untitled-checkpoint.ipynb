{
 "cells": [
  {
   "cell_type": "code",
   "execution_count": 5,
   "id": "00f72ee6-82fe-4943-b00a-16b48b42be28",
   "metadata": {},
   "outputs": [
    {
     "name": "stderr",
     "output_type": "stream",
     "text": [
      "Got stderr: Dec 26, 2024 4:59:34 PM org.apache.pdfbox.contentstream.PDFStreamEngine operatorException\n",
      "SEVERE: Cannot read JPEG2000 image: Java Advanced Imaging (JAI) Image I/O Tools are not installed\n",
      "Dec 26, 2024 4:59:34 PM org.apache.pdfbox.contentstream.PDFStreamEngine operatorException\n",
      "SEVERE: Cannot read JPEG2000 image: Java Advanced Imaging (JAI) Image I/O Tools are not installed\n",
      "Dec 26, 2024 4:59:34 PM org.apache.pdfbox.contentstream.PDFStreamEngine operatorException\n",
      "SEVERE: Cannot read JPEG2000 image: Java Advanced Imaging (JAI) Image I/O Tools are not installed\n",
      "Dec 26, 2024 4:59:34 PM org.apache.pdfbox.contentstream.PDFStreamEngine operatorException\n",
      "SEVERE: Cannot read JPEG2000 image: Java Advanced Imaging (JAI) Image I/O Tools are not installed\n",
      "Dec 26, 2024 4:59:34 PM org.apache.pdfbox.contentstream.PDFStreamEngine operatorException\n",
      "SEVERE: Cannot read JPEG2000 image: Java Advanced Imaging (JAI) Image I/O Tools are not installed\n",
      "Dec 26, 2024 4:59:34 PM org.apache.pdfbox.contentstream.PDFStreamEngine operatorException\n",
      "SEVERE: Cannot read JPEG2000 image: Java Advanced Imaging (JAI) Image I/O Tools are not installed\n",
      "Dec 26, 2024 4:59:34 PM org.apache.pdfbox.contentstream.PDFStreamEngine operatorException\n",
      "SEVERE: Cannot read JPEG2000 image: Java Advanced Imaging (JAI) Image I/O Tools are not installed\n",
      "Dec 26, 2024 4:59:34 PM org.apache.pdfbox.contentstream.PDFStreamEngine operatorException\n",
      "SEVERE: Cannot read JPEG2000 image: Java Advanced Imaging (JAI) Image I/O Tools are not installed\n",
      "Dec 26, 2024 4:59:37 PM org.apache.pdfbox.contentstream.PDFStreamEngine operatorException\n",
      "SEVERE: Cannot read JPEG2000 image: Java Advanced Imaging (JAI) Image I/O Tools are not installed\n",
      "Dec 26, 2024 4:59:37 PM org.apache.pdfbox.contentstream.PDFStreamEngine operatorException\n",
      "SEVERE: Cannot read JPEG2000 image: Java Advanced Imaging (JAI) Image I/O Tools are not installed\n",
      "Dec 26, 2024 4:59:37 PM org.apache.pdfbox.contentstream.PDFStreamEngine operatorException\n",
      "SEVERE: Cannot read JPEG2000 image: Java Advanced Imaging (JAI) Image I/O Tools are not installed\n",
      "Dec 26, 2024 4:59:37 PM org.apache.pdfbox.contentstream.PDFStreamEngine operatorException\n",
      "SEVERE: Cannot read JPEG2000 image: Java Advanced Imaging (JAI) Image I/O Tools are not installed\n",
      "Dec 26, 2024 4:59:37 PM org.apache.pdfbox.contentstream.PDFStreamEngine operatorException\n",
      "SEVERE: Cannot read JPEG2000 image: Java Advanced Imaging (JAI) Image I/O Tools are not installed\n",
      "\n"
     ]
    }
   ],
   "source": [
    "import tabula\n",
    "\n",
    "# Read pdf into list of DataFrame\n",
    "# dfs = tabula.read_pdf(\"../../ESG REPORTS/Zalando_2023.pdf\", pages='all')\n",
    "\n",
    "# print(dfs)\n",
    "# len(dfs)\n",
    "# convert PDF into CSV file\n",
    "# tabula.convert_into(\"../../sustainability reports/CompuGroup_ESG_EN_2021.pdf\", \"output.csv\", output_format=\"csv\", pages='all')\n",
    "\n",
    "# convert all PDFs in a directory\n",
    "tabula.convert_into_by_batch(\"../../sustainability reports\", output_format='csv', pages='all')"
   ]
  },
  {
   "cell_type": "code",
   "execution_count": 7,
   "id": "9866c003-9447-47f1-abcd-2d47f2649647",
   "metadata": {},
   "outputs": [
    {
     "ename": "FileNotFoundError",
     "evalue": "[Errno 2] No such file or directory: 'pdf_folder'",
     "output_type": "error",
     "traceback": [
      "\u001b[0;31m---------------------------------------------------------------------------\u001b[0m",
      "\u001b[0;31mFileNotFoundError\u001b[0m                         Traceback (most recent call last)",
      "Cell \u001b[0;32mIn[7], line 45\u001b[0m\n\u001b[1;32m     43\u001b[0m \u001b[38;5;66;03m# Example usage\u001b[39;00m\n\u001b[1;32m     44\u001b[0m \u001b[38;5;28;01mif\u001b[39;00m \u001b[38;5;18m__name__\u001b[39m \u001b[38;5;241m==\u001b[39m \u001b[38;5;124m\"\u001b[39m\u001b[38;5;124m__main__\u001b[39m\u001b[38;5;124m\"\u001b[39m:\n\u001b[0;32m---> 45\u001b[0m     \u001b[43mextract_tables_from_pdfs\u001b[49m\u001b[43m(\u001b[49m\u001b[38;5;124;43m'\u001b[39;49m\u001b[38;5;124;43mpdf_folder\u001b[39;49m\u001b[38;5;124;43m'\u001b[39;49m\u001b[43m)\u001b[49m\n",
      "Cell \u001b[0;32mIn[7], line 14\u001b[0m, in \u001b[0;36mextract_tables_from_pdfs\u001b[0;34m(input_folder, output_folder)\u001b[0m\n\u001b[1;32m     11\u001b[0m Path(output_folder)\u001b[38;5;241m.\u001b[39mmkdir(parents\u001b[38;5;241m=\u001b[39m\u001b[38;5;28;01mTrue\u001b[39;00m, exist_ok\u001b[38;5;241m=\u001b[39m\u001b[38;5;28;01mTrue\u001b[39;00m)\n\u001b[1;32m     12\u001b[0m table_counts \u001b[38;5;241m=\u001b[39m {}\n\u001b[0;32m---> 14\u001b[0m \u001b[38;5;28;01mfor\u001b[39;00m filename \u001b[38;5;129;01min\u001b[39;00m \u001b[43mos\u001b[49m\u001b[38;5;241;43m.\u001b[39;49m\u001b[43mlistdir\u001b[49m\u001b[43m(\u001b[49m\u001b[43minput_folder\u001b[49m\u001b[43m)\u001b[49m:\n\u001b[1;32m     15\u001b[0m     \u001b[38;5;28;01mif\u001b[39;00m filename\u001b[38;5;241m.\u001b[39mlower()\u001b[38;5;241m.\u001b[39mendswith(\u001b[38;5;124m'\u001b[39m\u001b[38;5;124m.pdf\u001b[39m\u001b[38;5;124m'\u001b[39m):\n\u001b[1;32m     16\u001b[0m         pdf_path \u001b[38;5;241m=\u001b[39m os\u001b[38;5;241m.\u001b[39mpath\u001b[38;5;241m.\u001b[39mjoin(input_folder, filename)\n",
      "\u001b[0;31mFileNotFoundError\u001b[0m: [Errno 2] No such file or directory: 'pdf_folder'"
     ]
    }
   ],
   "source": [
    "import os\n",
    "import tabula\n",
    "import pandas as pd\n",
    "from pathlib import Path\n",
    "\n",
    "def extract_tables_from_pdfs(input_folder, output_folder='tabula'):\n",
    "    \"\"\"\n",
    "    Extract tables from all PDFs in the input folder and save them to PDF-specific subfolders.\n",
    "    Creates a summary CSV with the number of tables extracted from each PDF.\n",
    "    \"\"\"\n",
    "    Path(output_folder).mkdir(parents=True, exist_ok=True)\n",
    "    table_counts = {}\n",
    "    \n",
    "    for filename in os.listdir(input_folder):\n",
    "        if filename.lower().endswith('.pdf'):\n",
    "            pdf_path = os.path.join(input_folder, filename)\n",
    "            pdf_name = os.path.splitext(filename)[0]\n",
    "            \n",
    "            # Create PDF-specific subfolder\n",
    "            pdf_output_folder = os.path.join(output_folder, pdf_name)\n",
    "            Path(pdf_output_folder).mkdir(exist_ok=True)\n",
    "            \n",
    "            try:\n",
    "                tables = tabula.read_pdf(pdf_path, pages='all', multiple_tables=True)\n",
    "                table_counts[filename] = len(tables)\n",
    "                \n",
    "                for i, table in enumerate(tables, 1):\n",
    "                    output_filename = f\"table_{i}.csv\"\n",
    "                    output_path = os.path.join(pdf_output_folder, output_filename)\n",
    "                    table.to_csv(output_path, index=False)\n",
    "                    print(f\"Saved table {i} from {filename}\")\n",
    "                \n",
    "            except Exception as e:\n",
    "                print(f\"Error processing {filename}: {str(e)}\")\n",
    "                table_counts[filename] = 0\n",
    "    \n",
    "    summary_df = pd.DataFrame.from_dict(table_counts.items())\n",
    "    summary_df.columns = ['PDF_Filename', 'Tables_Extracted']\n",
    "    summary_df.to_csv(os.path.join(output_folder, 'extraction_summary.csv'), index=False)\n",
    "    \n",
    "    print(f\"\\nExtraction complete! Results saved to {output_folder}\")\n",
    "\n",
    "# Example usage\n",
    "if __name__ == \"__main__\":\n",
    "    extract_tables_from_pdfs('../../sustainability reports')"
   ]
  },
  {
   "cell_type": "code",
   "execution_count": null,
   "id": "160e018c-a5fb-487f-8624-d2f14697db16",
   "metadata": {},
   "outputs": [],
   "source": []
  }
 ],
 "metadata": {
  "kernelspec": {
   "display_name": "Python 3 (ipykernel)",
   "language": "python",
   "name": "python3"
  },
  "language_info": {
   "codemirror_mode": {
    "name": "ipython",
    "version": 3
   },
   "file_extension": ".py",
   "mimetype": "text/x-python",
   "name": "python",
   "nbconvert_exporter": "python",
   "pygments_lexer": "ipython3",
   "version": "3.12.3"
  }
 },
 "nbformat": 4,
 "nbformat_minor": 5
}
